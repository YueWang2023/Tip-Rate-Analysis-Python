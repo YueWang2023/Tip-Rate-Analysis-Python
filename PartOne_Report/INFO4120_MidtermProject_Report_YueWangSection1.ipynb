{
 "cells": [
  {
   "cell_type": "markdown",
   "id": "ee152991-913b-41e3-bf50-fee441f523a6",
   "metadata": {},
   "source": [
    "## INFO 4120 Python - Midterm Project - Report"
   ]
  },
  {
   "cell_type": "markdown",
   "id": "0b1d209f-c153-43d5-b8f8-55a7eac2c57d",
   "metadata": {},
   "source": [
    "#### This report will go through: \n",
    "- Executive Summary \n",
    "- Research Questions \n",
    "- The Data\n",
    "    - Import Packages\n",
    "    - Data Source\n",
    "    - Read in Data\n",
    "    - Merge, Recoding, Create Bins\n",
    "    - Check Null Value\n",
    "    - Word Description\n",
    "    - Save File as csv\n",
    "- Data Exploration\n",
    "    - For Continuous Variables\n",
    "    - For Categorical Variables\n",
    "    - Summaries\n",
    "    - Discussion\n",
    "    - Explore the Questions\n",
    "- Conclusion"
   ]
  },
  {
   "cell_type": "markdown",
   "id": "3bc639ce-39c3-4036-ad60-f6c446f5df8b",
   "metadata": {},
   "source": [
    "## EXECUTIVE SUMMARY\n",
    "The datasets are the food server of a restaurant recorded data about the payer, orders and tips given to the waiter. It contains payer characteristics, order details and billing information. We setted up 3 research questions, analyzed both quantitative and qualitative variables, and derived the factors that affect the amount and tip rate. We came to the conclusion that payer's gender affacts the tip rate, Saturday and Sunday are some peak spending periods that deserve attention, and the higher the total amount, the lower the tip rates ."
   ]
  },
  {
   "cell_type": "markdown",
   "id": "be092222-12eb-468e-9e34-9f86036dc8ef",
   "metadata": {},
   "source": [
    "## RESEARCH QUESTIONS\n",
    "1. Whether certain characteristics of the payer affect the tip rate？\n",
    "2. Which day and time has the highest total bill, and which has the highest tip rate? Are they the same?\n",
    "3. How's size of people dining affact the tip rate? Does the size of people dining really has an affact the tip rate?"
   ]
  },
  {
   "cell_type": "markdown",
   "id": "ea82e209-6b05-4682-8e83-082a74148b32",
   "metadata": {},
   "source": [
    "## THE DATA"
   ]
  },
  {
   "cell_type": "markdown",
   "id": "fad6278b-a0c5-4f8e-b31f-bf2a9cc8806c",
   "metadata": {},
   "source": [
    "### Import Packages"
   ]
  },
  {
   "cell_type": "code",
   "execution_count": 4,
   "id": "e5122e79-4229-4e92-892b-3acef91e8eaa",
   "metadata": {},
   "outputs": [
    {
     "data": {
      "text/plain": [
       "'C:\\\\Users\\\\Yue Wang\\\\Desktop\\\\INFO 4120 Python\\\\Assign\\\\Midterm'"
      ]
     },
     "execution_count": 4,
     "metadata": {},
     "output_type": "execute_result"
    }
   ],
   "source": [
    "import pandas as pd\n",
    "import numpy as np\n",
    "import os\n",
    "import matplotlib.pyplot as plt\n",
    "import seaborn as sns\n",
    "from pandas import DataFrame, Series\n",
    "%matplotlib inline\n",
    "os.getcwd()"
   ]
  },
  {
   "cell_type": "markdown",
   "id": "e19f2260-1596-491e-b460-d9685f8201c7",
   "metadata": {},
   "source": [
    "### Data Source\n",
    "The datasets are downloaded from kaggle.\\\n",
    "It's the data of the food server of a restaurant recorded data about the tips given to the waiter. \\\n",
    "https://www.kaggle.com/datasets/rupakroy/waiter-tips-dataset-for-prediction/discussion"
   ]
  },
  {
   "cell_type": "markdown",
   "id": "a66eb500-ac55-4b49-a6c6-27e12a57d8ca",
   "metadata": {},
   "source": [
    "### Read in Original Datasets"
   ]
  },
  {
   "cell_type": "code",
   "execution_count": 5,
   "id": "280fc381-d30a-4f8d-9651-674e0ff0dad2",
   "metadata": {},
   "outputs": [
    {
     "data": {
      "text/html": [
       "<div>\n",
       "<style scoped>\n",
       "    .dataframe tbody tr th:only-of-type {\n",
       "        vertical-align: middle;\n",
       "    }\n",
       "\n",
       "    .dataframe tbody tr th {\n",
       "        vertical-align: top;\n",
       "    }\n",
       "\n",
       "    .dataframe thead th {\n",
       "        text-align: right;\n",
       "    }\n",
       "</style>\n",
       "<table border=\"1\" class=\"dataframe\">\n",
       "  <thead>\n",
       "    <tr style=\"text-align: right;\">\n",
       "      <th></th>\n",
       "      <th>record id</th>\n",
       "      <th>total_bill</th>\n",
       "      <th>tip</th>\n",
       "    </tr>\n",
       "  </thead>\n",
       "  <tbody>\n",
       "    <tr>\n",
       "      <th>0</th>\n",
       "      <td>1</td>\n",
       "      <td>16.99</td>\n",
       "      <td>1.01</td>\n",
       "    </tr>\n",
       "    <tr>\n",
       "      <th>1</th>\n",
       "      <td>2</td>\n",
       "      <td>10.34</td>\n",
       "      <td>1.66</td>\n",
       "    </tr>\n",
       "    <tr>\n",
       "      <th>2</th>\n",
       "      <td>3</td>\n",
       "      <td>21.01</td>\n",
       "      <td>3.50</td>\n",
       "    </tr>\n",
       "    <tr>\n",
       "      <th>3</th>\n",
       "      <td>4</td>\n",
       "      <td>23.68</td>\n",
       "      <td>3.31</td>\n",
       "    </tr>\n",
       "    <tr>\n",
       "      <th>4</th>\n",
       "      <td>5</td>\n",
       "      <td>24.59</td>\n",
       "      <td>3.61</td>\n",
       "    </tr>\n",
       "  </tbody>\n",
       "</table>\n",
       "</div>"
      ],
      "text/plain": [
       "   record id  total_bill   tip\n",
       "0          1       16.99  1.01\n",
       "1          2       10.34  1.66\n",
       "2          3       21.01  3.50\n",
       "3          4       23.68  3.31\n",
       "4          5       24.59  3.61"
      ]
     },
     "execution_count": 5,
     "metadata": {},
     "output_type": "execute_result"
    }
   ],
   "source": [
    "bill = pd.read_csv(\"waiter_tips_bill.csv\")\n",
    "df1 = DataFrame(bill)\n",
    "df1.head()"
   ]
  },
  {
   "cell_type": "code",
   "execution_count": 6,
   "id": "a1558e64-2bdc-4b53-b43d-dd2477a4e953",
   "metadata": {},
   "outputs": [
    {
     "data": {
      "text/html": [
       "<div>\n",
       "<style scoped>\n",
       "    .dataframe tbody tr th:only-of-type {\n",
       "        vertical-align: middle;\n",
       "    }\n",
       "\n",
       "    .dataframe tbody tr th {\n",
       "        vertical-align: top;\n",
       "    }\n",
       "\n",
       "    .dataframe thead th {\n",
       "        text-align: right;\n",
       "    }\n",
       "</style>\n",
       "<table border=\"1\" class=\"dataframe\">\n",
       "  <thead>\n",
       "    <tr style=\"text-align: right;\">\n",
       "      <th></th>\n",
       "      <th>record id</th>\n",
       "      <th>day</th>\n",
       "      <th>time</th>\n",
       "      <th>size</th>\n",
       "    </tr>\n",
       "  </thead>\n",
       "  <tbody>\n",
       "    <tr>\n",
       "      <th>0</th>\n",
       "      <td>1</td>\n",
       "      <td>Sun</td>\n",
       "      <td>Dinner</td>\n",
       "      <td>2</td>\n",
       "    </tr>\n",
       "    <tr>\n",
       "      <th>1</th>\n",
       "      <td>2</td>\n",
       "      <td>Sun</td>\n",
       "      <td>Dinner</td>\n",
       "      <td>3</td>\n",
       "    </tr>\n",
       "    <tr>\n",
       "      <th>2</th>\n",
       "      <td>3</td>\n",
       "      <td>Sun</td>\n",
       "      <td>Dinner</td>\n",
       "      <td>3</td>\n",
       "    </tr>\n",
       "    <tr>\n",
       "      <th>3</th>\n",
       "      <td>4</td>\n",
       "      <td>Sun</td>\n",
       "      <td>Dinner</td>\n",
       "      <td>2</td>\n",
       "    </tr>\n",
       "    <tr>\n",
       "      <th>4</th>\n",
       "      <td>5</td>\n",
       "      <td>Sun</td>\n",
       "      <td>Dinner</td>\n",
       "      <td>4</td>\n",
       "    </tr>\n",
       "  </tbody>\n",
       "</table>\n",
       "</div>"
      ],
      "text/plain": [
       "   record id  day    time  size\n",
       "0          1  Sun  Dinner     2\n",
       "1          2  Sun  Dinner     3\n",
       "2          3  Sun  Dinner     3\n",
       "3          4  Sun  Dinner     2\n",
       "4          5  Sun  Dinner     4"
      ]
     },
     "execution_count": 6,
     "metadata": {},
     "output_type": "execute_result"
    }
   ],
   "source": [
    "order = pd.read_csv(\"waiter_tips_order.csv\")\n",
    "df2 = DataFrame(order)\n",
    "df2.head()"
   ]
  },
  {
   "cell_type": "code",
   "execution_count": 7,
   "id": "e4cac8d4-0a37-405c-bd2f-56a062765349",
   "metadata": {},
   "outputs": [
    {
     "data": {
      "text/html": [
       "<div>\n",
       "<style scoped>\n",
       "    .dataframe tbody tr th:only-of-type {\n",
       "        vertical-align: middle;\n",
       "    }\n",
       "\n",
       "    .dataframe tbody tr th {\n",
       "        vertical-align: top;\n",
       "    }\n",
       "\n",
       "    .dataframe thead th {\n",
       "        text-align: right;\n",
       "    }\n",
       "</style>\n",
       "<table border=\"1\" class=\"dataframe\">\n",
       "  <thead>\n",
       "    <tr style=\"text-align: right;\">\n",
       "      <th></th>\n",
       "      <th>record id</th>\n",
       "      <th>sex</th>\n",
       "      <th>smoker</th>\n",
       "    </tr>\n",
       "  </thead>\n",
       "  <tbody>\n",
       "    <tr>\n",
       "      <th>0</th>\n",
       "      <td>1</td>\n",
       "      <td>Female</td>\n",
       "      <td>0</td>\n",
       "    </tr>\n",
       "    <tr>\n",
       "      <th>1</th>\n",
       "      <td>2</td>\n",
       "      <td>Male</td>\n",
       "      <td>0</td>\n",
       "    </tr>\n",
       "    <tr>\n",
       "      <th>2</th>\n",
       "      <td>3</td>\n",
       "      <td>Male</td>\n",
       "      <td>0</td>\n",
       "    </tr>\n",
       "    <tr>\n",
       "      <th>3</th>\n",
       "      <td>4</td>\n",
       "      <td>Male</td>\n",
       "      <td>0</td>\n",
       "    </tr>\n",
       "    <tr>\n",
       "      <th>4</th>\n",
       "      <td>5</td>\n",
       "      <td>Female</td>\n",
       "      <td>0</td>\n",
       "    </tr>\n",
       "  </tbody>\n",
       "</table>\n",
       "</div>"
      ],
      "text/plain": [
       "   record id     sex  smoker\n",
       "0          1  Female       0\n",
       "1          2    Male       0\n",
       "2          3    Male       0\n",
       "3          4    Male       0\n",
       "4          5  Female       0"
      ]
     },
     "execution_count": 7,
     "metadata": {},
     "output_type": "execute_result"
    }
   ],
   "source": [
    "person = pd.read_csv(\"waiter_tips_person.csv\")\n",
    "df3 = DataFrame(person)\n",
    "df3.head()"
   ]
  },
  {
   "cell_type": "markdown",
   "id": "205f1620-49ab-45c5-acba-55ab5c5d58ed",
   "metadata": {},
   "source": [
    "### Merge and Other Adjustments"
   ]
  },
  {
   "cell_type": "code",
   "execution_count": 8,
   "id": "aefe2e29-2178-4fd5-b473-7e81d5bf59be",
   "metadata": {},
   "outputs": [],
   "source": [
    "# Merge the Datasets\n",
    "df0 = pd.merge(df1, df2, on = \"record id\")\n",
    "Finaldf = pd.merge(df0, df3, on = \"record id\")\n",
    "# Change Index\n",
    "Finaldf= Finaldf.set_index('record id')\n",
    "#Reorder the Columns\n",
    "Finaldf = Finaldf[['sex','smoker','day','time','size','total_bill','tip']]"
   ]
  },
  {
   "cell_type": "markdown",
   "id": "e923df90-39ec-47a3-be3f-4c54ac31c6ef",
   "metadata": {},
   "source": [
    "### Recoding Data\n",
    "Recode the smoker column to 'Yes' if the original value is 1 and to 'No' if the original value is 0. View the top 5 rows."
   ]
  },
  {
   "cell_type": "code",
   "execution_count": 9,
   "id": "03512f0c-c802-405a-abc1-6af7118338f6",
   "metadata": {},
   "outputs": [
    {
     "data": {
      "text/html": [
       "<div>\n",
       "<style scoped>\n",
       "    .dataframe tbody tr th:only-of-type {\n",
       "        vertical-align: middle;\n",
       "    }\n",
       "\n",
       "    .dataframe tbody tr th {\n",
       "        vertical-align: top;\n",
       "    }\n",
       "\n",
       "    .dataframe thead th {\n",
       "        text-align: right;\n",
       "    }\n",
       "</style>\n",
       "<table border=\"1\" class=\"dataframe\">\n",
       "  <thead>\n",
       "    <tr style=\"text-align: right;\">\n",
       "      <th></th>\n",
       "      <th>sex</th>\n",
       "      <th>smoker</th>\n",
       "      <th>day</th>\n",
       "      <th>time</th>\n",
       "      <th>size</th>\n",
       "      <th>total_bill</th>\n",
       "      <th>tip</th>\n",
       "    </tr>\n",
       "    <tr>\n",
       "      <th>record id</th>\n",
       "      <th></th>\n",
       "      <th></th>\n",
       "      <th></th>\n",
       "      <th></th>\n",
       "      <th></th>\n",
       "      <th></th>\n",
       "      <th></th>\n",
       "    </tr>\n",
       "  </thead>\n",
       "  <tbody>\n",
       "    <tr>\n",
       "      <th>1</th>\n",
       "      <td>Female</td>\n",
       "      <td>No</td>\n",
       "      <td>Sun</td>\n",
       "      <td>Dinner</td>\n",
       "      <td>2</td>\n",
       "      <td>16.99</td>\n",
       "      <td>1.01</td>\n",
       "    </tr>\n",
       "    <tr>\n",
       "      <th>2</th>\n",
       "      <td>Male</td>\n",
       "      <td>No</td>\n",
       "      <td>Sun</td>\n",
       "      <td>Dinner</td>\n",
       "      <td>3</td>\n",
       "      <td>10.34</td>\n",
       "      <td>1.66</td>\n",
       "    </tr>\n",
       "    <tr>\n",
       "      <th>3</th>\n",
       "      <td>Male</td>\n",
       "      <td>No</td>\n",
       "      <td>Sun</td>\n",
       "      <td>Dinner</td>\n",
       "      <td>3</td>\n",
       "      <td>21.01</td>\n",
       "      <td>3.50</td>\n",
       "    </tr>\n",
       "    <tr>\n",
       "      <th>4</th>\n",
       "      <td>Male</td>\n",
       "      <td>No</td>\n",
       "      <td>Sun</td>\n",
       "      <td>Dinner</td>\n",
       "      <td>2</td>\n",
       "      <td>23.68</td>\n",
       "      <td>3.31</td>\n",
       "    </tr>\n",
       "    <tr>\n",
       "      <th>5</th>\n",
       "      <td>Female</td>\n",
       "      <td>No</td>\n",
       "      <td>Sun</td>\n",
       "      <td>Dinner</td>\n",
       "      <td>4</td>\n",
       "      <td>24.59</td>\n",
       "      <td>3.61</td>\n",
       "    </tr>\n",
       "  </tbody>\n",
       "</table>\n",
       "</div>"
      ],
      "text/plain": [
       "              sex smoker  day    time  size  total_bill   tip\n",
       "record id                                                    \n",
       "1          Female     No  Sun  Dinner     2       16.99  1.01\n",
       "2            Male     No  Sun  Dinner     3       10.34  1.66\n",
       "3            Male     No  Sun  Dinner     3       21.01  3.50\n",
       "4            Male     No  Sun  Dinner     2       23.68  3.31\n",
       "5          Female     No  Sun  Dinner     4       24.59  3.61"
      ]
     },
     "execution_count": 9,
     "metadata": {},
     "output_type": "execute_result"
    }
   ],
   "source": [
    "Finaldf.smoker = Finaldf.smoker.replace(to_replace=[1,0], value =['Yes','No'])\n",
    "Finaldf.head()"
   ]
  },
  {
   "cell_type": "markdown",
   "id": "9860054d-2387-4978-ac83-114985d403d0",
   "metadata": {},
   "source": [
    "### Create Bins\n",
    "Create bins for total_bill. Total bills between [0,15) are Low. Total bills between [15,30) are Medium. Total bills between [30,60) are high. \\\n",
    "The sum of bills of all 3 levels equals to 244, which means all the records are included."
   ]
  },
  {
   "cell_type": "code",
   "execution_count": 10,
   "id": "eff360bd-36b8-4dd8-9059-6398aa4e2674",
   "metadata": {},
   "outputs": [
    {
     "data": {
      "text/plain": [
       "Med     132\n",
       "Low      80\n",
       "High     32\n",
       "Name: total_bill, dtype: int64"
      ]
     },
     "execution_count": 10,
     "metadata": {},
     "output_type": "execute_result"
    }
   ],
   "source": [
    "total = pd.cut(Finaldf['total_bill'], [0,15,30,60], right = False, labels = ['Low','Med','High'])\n",
    "pd.value_counts(total)"
   ]
  },
  {
   "cell_type": "markdown",
   "id": "27b4af2c-82fc-40e0-bcb1-d8e4739c7c79",
   "metadata": {},
   "source": [
    "### Create New Column"
   ]
  },
  {
   "cell_type": "code",
   "execution_count": 11,
   "id": "51479d74-8b89-492e-b6ae-163074a2de7e",
   "metadata": {},
   "outputs": [
    {
     "data": {
      "text/html": [
       "<div>\n",
       "<style scoped>\n",
       "    .dataframe tbody tr th:only-of-type {\n",
       "        vertical-align: middle;\n",
       "    }\n",
       "\n",
       "    .dataframe tbody tr th {\n",
       "        vertical-align: top;\n",
       "    }\n",
       "\n",
       "    .dataframe thead th {\n",
       "        text-align: right;\n",
       "    }\n",
       "</style>\n",
       "<table border=\"1\" class=\"dataframe\">\n",
       "  <thead>\n",
       "    <tr style=\"text-align: right;\">\n",
       "      <th></th>\n",
       "      <th>sex</th>\n",
       "      <th>smoker</th>\n",
       "      <th>day</th>\n",
       "      <th>time</th>\n",
       "      <th>size</th>\n",
       "      <th>total_bill</th>\n",
       "      <th>tip</th>\n",
       "      <th>tip_rate</th>\n",
       "    </tr>\n",
       "    <tr>\n",
       "      <th>record id</th>\n",
       "      <th></th>\n",
       "      <th></th>\n",
       "      <th></th>\n",
       "      <th></th>\n",
       "      <th></th>\n",
       "      <th></th>\n",
       "      <th></th>\n",
       "      <th></th>\n",
       "    </tr>\n",
       "  </thead>\n",
       "  <tbody>\n",
       "    <tr>\n",
       "      <th>1</th>\n",
       "      <td>Female</td>\n",
       "      <td>No</td>\n",
       "      <td>Sun</td>\n",
       "      <td>Dinner</td>\n",
       "      <td>2</td>\n",
       "      <td>16.99</td>\n",
       "      <td>1.01</td>\n",
       "      <td>5.944673</td>\n",
       "    </tr>\n",
       "    <tr>\n",
       "      <th>2</th>\n",
       "      <td>Male</td>\n",
       "      <td>No</td>\n",
       "      <td>Sun</td>\n",
       "      <td>Dinner</td>\n",
       "      <td>3</td>\n",
       "      <td>10.34</td>\n",
       "      <td>1.66</td>\n",
       "      <td>16.054159</td>\n",
       "    </tr>\n",
       "    <tr>\n",
       "      <th>3</th>\n",
       "      <td>Male</td>\n",
       "      <td>No</td>\n",
       "      <td>Sun</td>\n",
       "      <td>Dinner</td>\n",
       "      <td>3</td>\n",
       "      <td>21.01</td>\n",
       "      <td>3.50</td>\n",
       "      <td>16.658734</td>\n",
       "    </tr>\n",
       "    <tr>\n",
       "      <th>4</th>\n",
       "      <td>Male</td>\n",
       "      <td>No</td>\n",
       "      <td>Sun</td>\n",
       "      <td>Dinner</td>\n",
       "      <td>2</td>\n",
       "      <td>23.68</td>\n",
       "      <td>3.31</td>\n",
       "      <td>13.978041</td>\n",
       "    </tr>\n",
       "    <tr>\n",
       "      <th>5</th>\n",
       "      <td>Female</td>\n",
       "      <td>No</td>\n",
       "      <td>Sun</td>\n",
       "      <td>Dinner</td>\n",
       "      <td>4</td>\n",
       "      <td>24.59</td>\n",
       "      <td>3.61</td>\n",
       "      <td>14.680765</td>\n",
       "    </tr>\n",
       "  </tbody>\n",
       "</table>\n",
       "</div>"
      ],
      "text/plain": [
       "              sex smoker  day    time  size  total_bill   tip   tip_rate\n",
       "record id                                                               \n",
       "1          Female     No  Sun  Dinner     2       16.99  1.01   5.944673\n",
       "2            Male     No  Sun  Dinner     3       10.34  1.66  16.054159\n",
       "3            Male     No  Sun  Dinner     3       21.01  3.50  16.658734\n",
       "4            Male     No  Sun  Dinner     2       23.68  3.31  13.978041\n",
       "5          Female     No  Sun  Dinner     4       24.59  3.61  14.680765"
      ]
     },
     "execution_count": 11,
     "metadata": {},
     "output_type": "execute_result"
    }
   ],
   "source": [
    "Finaldf.eval('tip_rate = (tip/total_bill)*100', inplace = True)\n",
    "Finaldf.head()"
   ]
  },
  {
   "cell_type": "markdown",
   "id": "3ec179d2-0f18-425e-9f2d-472c1eb94e5b",
   "metadata": {},
   "source": [
    "### Check If Null Values Exist\n",
    "There's no null value in the dataset."
   ]
  },
  {
   "cell_type": "code",
   "execution_count": 12,
   "id": "be0e2ae9-3ed8-45f4-9f2b-69a5e43ac18c",
   "metadata": {},
   "outputs": [
    {
     "data": {
      "text/plain": [
       "False"
      ]
     },
     "execution_count": 12,
     "metadata": {},
     "output_type": "execute_result"
    }
   ],
   "source": [
    "Finaldf.isnull().values.any()"
   ]
  },
  {
   "cell_type": "markdown",
   "id": "63094b3b-398f-4183-ac51-d58872fa4024",
   "metadata": {},
   "source": [
    "### View the Final Dataset & Word Descriptins\n",
    "record ID: each record has a unique id \\\n",
    "total_bill: Total bill in dollars including taxes\\\n",
    "tip: Tip given to waiters in dollars e.g. 1.01, 1.66 \\\n",
    "sex: gender of the person paying the bill  \\ \n",
    "smoker: whether the person smoked or not, if the person smoke, show Yes, if not, shows No \\\n",
    "day: day of the week \\\n",
    "time: lunch or dinner \\\n",
    "size: number of people in a table\n",
    "\n",
    "View the top 10 rows of the final dataset."
   ]
  },
  {
   "cell_type": "code",
   "execution_count": 13,
   "id": "96d5aed7-f5c6-4066-a029-62d9f528df43",
   "metadata": {},
   "outputs": [
    {
     "data": {
      "text/plain": [
       "sex            object\n",
       "smoker         object\n",
       "day            object\n",
       "time           object\n",
       "size            int64\n",
       "total_bill    float64\n",
       "tip           float64\n",
       "tip_rate      float64\n",
       "dtype: object"
      ]
     },
     "execution_count": 13,
     "metadata": {},
     "output_type": "execute_result"
    }
   ],
   "source": [
    "#View the data types\n",
    "Finaldf.dtypes"
   ]
  },
  {
   "cell_type": "code",
   "execution_count": 14,
   "id": "34d44070-4618-410b-87b8-6b6900e86aff",
   "metadata": {},
   "outputs": [
    {
     "data": {
      "text/html": [
       "<div>\n",
       "<style scoped>\n",
       "    .dataframe tbody tr th:only-of-type {\n",
       "        vertical-align: middle;\n",
       "    }\n",
       "\n",
       "    .dataframe tbody tr th {\n",
       "        vertical-align: top;\n",
       "    }\n",
       "\n",
       "    .dataframe thead th {\n",
       "        text-align: right;\n",
       "    }\n",
       "</style>\n",
       "<table border=\"1\" class=\"dataframe\">\n",
       "  <thead>\n",
       "    <tr style=\"text-align: right;\">\n",
       "      <th></th>\n",
       "      <th>sex</th>\n",
       "      <th>smoker</th>\n",
       "      <th>day</th>\n",
       "      <th>time</th>\n",
       "      <th>size</th>\n",
       "      <th>total_bill</th>\n",
       "      <th>tip</th>\n",
       "      <th>tip_rate</th>\n",
       "    </tr>\n",
       "    <tr>\n",
       "      <th>record id</th>\n",
       "      <th></th>\n",
       "      <th></th>\n",
       "      <th></th>\n",
       "      <th></th>\n",
       "      <th></th>\n",
       "      <th></th>\n",
       "      <th></th>\n",
       "      <th></th>\n",
       "    </tr>\n",
       "  </thead>\n",
       "  <tbody>\n",
       "    <tr>\n",
       "      <th>1</th>\n",
       "      <td>Female</td>\n",
       "      <td>No</td>\n",
       "      <td>Sun</td>\n",
       "      <td>Dinner</td>\n",
       "      <td>2</td>\n",
       "      <td>16.99</td>\n",
       "      <td>1.01</td>\n",
       "      <td>5.944673</td>\n",
       "    </tr>\n",
       "  </tbody>\n",
       "</table>\n",
       "</div>"
      ],
      "text/plain": [
       "              sex smoker  day    time  size  total_bill   tip  tip_rate\n",
       "record id                                                              \n",
       "1          Female     No  Sun  Dinner     2       16.99  1.01  5.944673"
      ]
     },
     "execution_count": 14,
     "metadata": {},
     "output_type": "execute_result"
    }
   ],
   "source": [
    "# Example of the data\n",
    "Finaldf.iloc[0:1,0:8]"
   ]
  },
  {
   "cell_type": "code",
   "execution_count": 15,
   "id": "36221f83-a088-4e4b-8a56-15610757c2c3",
   "metadata": {},
   "outputs": [
    {
     "data": {
      "text/html": [
       "<div>\n",
       "<style scoped>\n",
       "    .dataframe tbody tr th:only-of-type {\n",
       "        vertical-align: middle;\n",
       "    }\n",
       "\n",
       "    .dataframe tbody tr th {\n",
       "        vertical-align: top;\n",
       "    }\n",
       "\n",
       "    .dataframe thead th {\n",
       "        text-align: right;\n",
       "    }\n",
       "</style>\n",
       "<table border=\"1\" class=\"dataframe\">\n",
       "  <thead>\n",
       "    <tr style=\"text-align: right;\">\n",
       "      <th></th>\n",
       "      <th>sex</th>\n",
       "      <th>smoker</th>\n",
       "      <th>day</th>\n",
       "      <th>time</th>\n",
       "      <th>size</th>\n",
       "      <th>total_bill</th>\n",
       "      <th>tip</th>\n",
       "      <th>tip_rate</th>\n",
       "    </tr>\n",
       "    <tr>\n",
       "      <th>record id</th>\n",
       "      <th></th>\n",
       "      <th></th>\n",
       "      <th></th>\n",
       "      <th></th>\n",
       "      <th></th>\n",
       "      <th></th>\n",
       "      <th></th>\n",
       "      <th></th>\n",
       "    </tr>\n",
       "  </thead>\n",
       "  <tbody>\n",
       "    <tr>\n",
       "      <th>1</th>\n",
       "      <td>Female</td>\n",
       "      <td>No</td>\n",
       "      <td>Sun</td>\n",
       "      <td>Dinner</td>\n",
       "      <td>2</td>\n",
       "      <td>16.99</td>\n",
       "      <td>1.01</td>\n",
       "      <td>5.944673</td>\n",
       "    </tr>\n",
       "    <tr>\n",
       "      <th>2</th>\n",
       "      <td>Male</td>\n",
       "      <td>No</td>\n",
       "      <td>Sun</td>\n",
       "      <td>Dinner</td>\n",
       "      <td>3</td>\n",
       "      <td>10.34</td>\n",
       "      <td>1.66</td>\n",
       "      <td>16.054159</td>\n",
       "    </tr>\n",
       "    <tr>\n",
       "      <th>3</th>\n",
       "      <td>Male</td>\n",
       "      <td>No</td>\n",
       "      <td>Sun</td>\n",
       "      <td>Dinner</td>\n",
       "      <td>3</td>\n",
       "      <td>21.01</td>\n",
       "      <td>3.50</td>\n",
       "      <td>16.658734</td>\n",
       "    </tr>\n",
       "    <tr>\n",
       "      <th>4</th>\n",
       "      <td>Male</td>\n",
       "      <td>No</td>\n",
       "      <td>Sun</td>\n",
       "      <td>Dinner</td>\n",
       "      <td>2</td>\n",
       "      <td>23.68</td>\n",
       "      <td>3.31</td>\n",
       "      <td>13.978041</td>\n",
       "    </tr>\n",
       "    <tr>\n",
       "      <th>5</th>\n",
       "      <td>Female</td>\n",
       "      <td>No</td>\n",
       "      <td>Sun</td>\n",
       "      <td>Dinner</td>\n",
       "      <td>4</td>\n",
       "      <td>24.59</td>\n",
       "      <td>3.61</td>\n",
       "      <td>14.680765</td>\n",
       "    </tr>\n",
       "    <tr>\n",
       "      <th>6</th>\n",
       "      <td>Male</td>\n",
       "      <td>No</td>\n",
       "      <td>Sun</td>\n",
       "      <td>Dinner</td>\n",
       "      <td>4</td>\n",
       "      <td>25.29</td>\n",
       "      <td>4.71</td>\n",
       "      <td>18.623962</td>\n",
       "    </tr>\n",
       "    <tr>\n",
       "      <th>7</th>\n",
       "      <td>Male</td>\n",
       "      <td>No</td>\n",
       "      <td>Sun</td>\n",
       "      <td>Dinner</td>\n",
       "      <td>2</td>\n",
       "      <td>8.77</td>\n",
       "      <td>2.00</td>\n",
       "      <td>22.805017</td>\n",
       "    </tr>\n",
       "    <tr>\n",
       "      <th>8</th>\n",
       "      <td>Male</td>\n",
       "      <td>No</td>\n",
       "      <td>Sun</td>\n",
       "      <td>Dinner</td>\n",
       "      <td>4</td>\n",
       "      <td>26.88</td>\n",
       "      <td>3.12</td>\n",
       "      <td>11.607143</td>\n",
       "    </tr>\n",
       "    <tr>\n",
       "      <th>9</th>\n",
       "      <td>Male</td>\n",
       "      <td>No</td>\n",
       "      <td>Sun</td>\n",
       "      <td>Dinner</td>\n",
       "      <td>2</td>\n",
       "      <td>15.04</td>\n",
       "      <td>1.96</td>\n",
       "      <td>13.031915</td>\n",
       "    </tr>\n",
       "    <tr>\n",
       "      <th>10</th>\n",
       "      <td>Male</td>\n",
       "      <td>No</td>\n",
       "      <td>Sun</td>\n",
       "      <td>Dinner</td>\n",
       "      <td>2</td>\n",
       "      <td>14.78</td>\n",
       "      <td>3.23</td>\n",
       "      <td>21.853857</td>\n",
       "    </tr>\n",
       "  </tbody>\n",
       "</table>\n",
       "</div>"
      ],
      "text/plain": [
       "              sex smoker  day    time  size  total_bill   tip   tip_rate\n",
       "record id                                                               \n",
       "1          Female     No  Sun  Dinner     2       16.99  1.01   5.944673\n",
       "2            Male     No  Sun  Dinner     3       10.34  1.66  16.054159\n",
       "3            Male     No  Sun  Dinner     3       21.01  3.50  16.658734\n",
       "4            Male     No  Sun  Dinner     2       23.68  3.31  13.978041\n",
       "5          Female     No  Sun  Dinner     4       24.59  3.61  14.680765\n",
       "6            Male     No  Sun  Dinner     4       25.29  4.71  18.623962\n",
       "7            Male     No  Sun  Dinner     2        8.77  2.00  22.805017\n",
       "8            Male     No  Sun  Dinner     4       26.88  3.12  11.607143\n",
       "9            Male     No  Sun  Dinner     2       15.04  1.96  13.031915\n",
       "10           Male     No  Sun  Dinner     2       14.78  3.23  21.853857"
      ]
     },
     "execution_count": 15,
     "metadata": {},
     "output_type": "execute_result"
    }
   ],
   "source": [
    "Finaldf.head(10)"
   ]
  },
  {
   "cell_type": "markdown",
   "id": "2bccdf5b-6f01-417d-8625-1c7710576758",
   "metadata": {},
   "source": [
    "### Save Data as csv File"
   ]
  },
  {
   "cell_type": "code",
   "execution_count": 16,
   "id": "9535f697-c849-4332-a640-f36af6900ed6",
   "metadata": {},
   "outputs": [],
   "source": [
    "Finaldf.to_csv(\"final version file.csv\")"
   ]
  },
  {
   "cell_type": "markdown",
   "id": "6f0c32cd-8b38-4845-9ea5-158662457fa9",
   "metadata": {},
   "source": [
    "## DATA EXPLORATION"
   ]
  },
  {
   "cell_type": "markdown",
   "id": "f0638b5a-c591-4053-94ba-a9927dc957e4",
   "metadata": {},
   "source": [
    "### For Continuous Variables"
   ]
  },
  {
   "cell_type": "markdown",
   "id": "2d8f9ecc-3752-4923-bebb-fd7d3c494665",
   "metadata": {},
   "source": [
    "#### Analysis of Size"
   ]
  },
  {
   "cell_type": "code",
   "execution_count": 17,
   "id": "5a15f6db-adde-4957-8e9f-33b547c935a3",
   "metadata": {},
   "outputs": [
    {
     "data": {
      "text/plain": [
       "count    244.000000\n",
       "mean       2.569672\n",
       "std        0.951100\n",
       "min        1.000000\n",
       "25%        2.000000\n",
       "50%        2.000000\n",
       "75%        3.000000\n",
       "max        6.000000\n",
       "Name: size, dtype: float64"
      ]
     },
     "execution_count": 17,
     "metadata": {},
     "output_type": "execute_result"
    }
   ],
   "source": [
    "# Descriptive Analysis of 'size'\n",
    "Finaldf['size'].describe()"
   ]
  },
  {
   "cell_type": "code",
   "execution_count": 85,
   "id": "88a887cd-b456-4034-9398-c98c44997a98",
   "metadata": {},
   "outputs": [
    {
     "data": {
      "image/png": "[encoded data removed]",
      "text/plain": [
       "<Figure size 432x288 with 1 Axes>"
      ]
     },
     "metadata": {},
     "output_type": "display_data"
    }
   ],
   "source": [
    "# Histogram of 'size'\n",
    "Finaldf.hist('size')\n",
    "plt.title('Histogram of Size')\n",
    "plt.xlabel('Number of Diners')\n",
    "plt.ylabel('Frequency')\n",
    "plt.show()"
   ]
  },
  {
   "cell_type": "markdown",
   "id": "7686bf9b-6409-4b79-bbad-1891baec52f2",
   "metadata": {},
   "source": [
    "#### Conclusion:\n",
    "Most customers come to dine for two people, followed by three or four people, a single person or people more than 4 dining situation is very rare."
   ]
  },
  {
   "cell_type": "markdown",
   "id": "1cd15b6f-4a4b-4e6d-b265-0822f0b876ff",
   "metadata": {},
   "source": [
    "#### Analysis of Total Bill"
   ]
  },
  {
   "cell_type": "code",
   "execution_count": 19,
   "id": "1afc7fa2-e122-497d-94ca-5ca7111622b5",
   "metadata": {},
   "outputs": [
    {
     "data": {
      "text/plain": [
       "count    244.000000\n",
       "mean      19.785943\n",
       "std        8.902412\n",
       "min        3.070000\n",
       "25%       13.347500\n",
       "50%       17.795000\n",
       "75%       24.127500\n",
       "max       50.810000\n",
       "Name: total_bill, dtype: float64"
      ]
     },
     "execution_count": 19,
     "metadata": {},
     "output_type": "execute_result"
    }
   ],
   "source": [
    "# Descriptive Analysis of 'total_bill'\n",
    "Finaldf['total_bill'].describe()"
   ]
  },
  {
   "cell_type": "code",
   "execution_count": 20,
   "id": "7226b2f4-2003-4243-ba93-1a4729d6d57c",
   "metadata": {},
   "outputs": [
    {
     "data": {
      "image/png": "[encoded data removed]",
      "text/plain": [
       "<Figure size 432x288 with 1 Axes>"
      ]
     },
     "metadata": {
      "needs_background": "light"
     },
     "output_type": "display_data"
    }
   ],
   "source": [
    "# Histogram of 'total_bill'\n",
    "plt.hist(Finaldf.total_bill,rwidth=0.9)\n",
    "plt.title('Histogram of Total Bill')\n",
    "plt.xlabel('Total Billing Amount')\n",
    "plt.ylabel('Frequency')\n",
    "plt.show()"
   ]
  },
  {
   "cell_type": "markdown",
   "id": "19ccaf3d-fdc0-434d-81b5-65fde0a08642",
   "metadata": {},
   "source": [
    "#### Conclusion:\n",
    "Most of the bills are between 10 dollars and 30 dollars."
   ]
  },
  {
   "cell_type": "markdown",
   "id": "40dbc49e-4115-4d70-8b02-617d2aac8d36",
   "metadata": {},
   "source": [
    "#### Analysis of Tip"
   ]
  },
  {
   "cell_type": "code",
   "execution_count": 21,
   "id": "cf1d2c89-708e-4747-9cab-15959c3b6685",
   "metadata": {},
   "outputs": [
    {
     "data": {
      "text/plain": [
       "count    244.000000\n",
       "mean       2.998279\n",
       "std        1.383638\n",
       "min        1.000000\n",
       "25%        2.000000\n",
       "50%        2.900000\n",
       "75%        3.562500\n",
       "max       10.000000\n",
       "Name: tip, dtype: float64"
      ]
     },
     "execution_count": 21,
     "metadata": {},
     "output_type": "execute_result"
    }
   ],
   "source": [
    "# Descriptive Analysis of 'tip'\n",
    "Finaldf['tip'].describe()"
   ]
  },
  {
   "cell_type": "code",
   "execution_count": 22,
   "id": "f9c3aad1-32dc-4866-8440-a8648f67915e",
   "metadata": {},
   "outputs": [
    {
     "data": {
      "image/png": "[encoded data removed]",
      "text/plain": [
       "<Figure size 432x288 with 1 Axes>"
      ]
     },
     "metadata": {
      "needs_background": "light"
     },
     "output_type": "display_data"
    }
   ],
   "source": [
    "# Histogram of 'tip'\n",
    "plt.hist(Finaldf.tip,rwidth = 0.9)\n",
    "plt.title('Histogram of Tip')\n",
    "plt.xlabel('Tip')\n",
    "plt.ylabel('Frequency')\n",
    "plt.show()"
   ]
  },
  {
   "cell_type": "markdown",
   "id": "2f29b590-93ec-489a-b81f-7159829aaef9",
   "metadata": {},
   "source": [
    "#### Conclusion:\n",
    "Tips are usually in the range of 1~5 dollars, rarely reaching more than 5 dollars."
   ]
  },
  {
   "cell_type": "markdown",
   "id": "4ecad254-0201-4cd4-ba8c-3e7b5f20961e",
   "metadata": {},
   "source": [
    "#### Analysis of Tip Rate"
   ]
  },
  {
   "cell_type": "code",
   "execution_count": 24,
   "id": "3daa8318-fc8e-4012-9d94-057af4ed3d01",
   "metadata": {},
   "outputs": [
    {
     "data": {
      "text/plain": [
       "count    244.000000\n",
       "mean      16.080258\n",
       "std        6.107220\n",
       "min        3.563814\n",
       "25%       12.912736\n",
       "50%       15.476977\n",
       "75%       19.147549\n",
       "max       71.034483\n",
       "Name: tip_rate, dtype: float64"
      ]
     },
     "execution_count": 24,
     "metadata": {},
     "output_type": "execute_result"
    }
   ],
   "source": [
    "# Descriptive Analysis of 'tip_rate'\n",
    "Finaldf['tip_rate'].describe()"
   ]
  },
  {
   "cell_type": "code",
   "execution_count": 25,
   "id": "23aafe92-fc17-4442-b966-3ac9dac8fd28",
   "metadata": {},
   "outputs": [
    {
     "data": {
      "image/png": "[encoded data removed]",
      "text/plain": [
       "<Figure size 432x288 with 1 Axes>"
      ]
     },
     "metadata": {
      "needs_background": "light"
     },
     "output_type": "display_data"
    }
   ],
   "source": [
    "# Histogram of 'tip_rate'\n",
    "plt.hist(Finaldf.tip_rate,rwidth=0.9)\n",
    "plt.title('Histogram of Tip Rate')\n",
    "plt.xlabel('Tip Rate(By Percent)')\n",
    "plt.ylabel('Frequency')\n",
    "plt.show()"
   ]
  },
  {
   "cell_type": "markdown",
   "id": "0d45f218-2235-418a-a996-8a5146371324",
   "metadata": {},
   "source": [
    "#### Conclusion:\n",
    "People are usually willing to give a 10% to 20% tip."
   ]
  },
  {
   "cell_type": "markdown",
   "id": "1f67634d-ffde-4958-8219-2b448b367e4e",
   "metadata": {},
   "source": [
    "### For Categorical Variables"
   ]
  },
  {
   "cell_type": "markdown",
   "id": "02112640-b040-4b75-92df-dbb9fde5bca0",
   "metadata": {},
   "source": [
    "#### Analysis of Gender"
   ]
  },
  {
   "cell_type": "code",
   "execution_count": 26,
   "id": "e5c7b3f5-7a64-45a7-a932-01e52a7ce1dc",
   "metadata": {},
   "outputs": [
    {
     "data": {
      "text/html": [
       "<div>\n",
       "<style scoped>\n",
       "    .dataframe tbody tr th:only-of-type {\n",
       "        vertical-align: middle;\n",
       "    }\n",
       "\n",
       "    .dataframe tbody tr th {\n",
       "        vertical-align: top;\n",
       "    }\n",
       "\n",
       "    .dataframe thead th {\n",
       "        text-align: right;\n",
       "    }\n",
       "</style>\n",
       "<table border=\"1\" class=\"dataframe\">\n",
       "  <thead>\n",
       "    <tr style=\"text-align: right;\">\n",
       "      <th></th>\n",
       "      <th>sex</th>\n",
       "    </tr>\n",
       "  </thead>\n",
       "  <tbody>\n",
       "    <tr>\n",
       "      <th>Male</th>\n",
       "      <td>157</td>\n",
       "    </tr>\n",
       "    <tr>\n",
       "      <th>Female</th>\n",
       "      <td>87</td>\n",
       "    </tr>\n",
       "  </tbody>\n",
       "</table>\n",
       "</div>"
      ],
      "text/plain": [
       "        sex\n",
       "Male    157\n",
       "Female   87"
      ]
     },
     "execution_count": 26,
     "metadata": {},
     "output_type": "execute_result"
    }
   ],
   "source": [
    "# Typr count of gender of people who pays the bill\n",
    "SexCnts = DataFrame(Finaldf.sex.value_counts())\n",
    "SexCnts"
   ]
  },
  {
   "cell_type": "code",
   "execution_count": 100,
   "id": "494f3f5f-e1fd-47f4-a129-c15cfbf41284",
   "metadata": {},
   "outputs": [
    {
     "data": {
      "image/png": "[encoded data removed]",
      "text/plain": [
       "<Figure size 432x288 with 1 Axes>"
      ]
     },
     "metadata": {},
     "output_type": "display_data"
    }
   ],
   "source": [
    "# Pie chart of gender of people who pays the bill\n",
    "SexCnts.plot(kind='pie',autopct='%1.1f%%',subplots = True)\n",
    "plt.title('Gender Distribution Pie Chart')\n",
    "plt.ylabel('')\n",
    "plt.show()"
   ]
  },
  {
   "cell_type": "markdown",
   "id": "13a75d9f-6d6b-480a-af58-094a36a674ac",
   "metadata": {},
   "source": [
    "#### Conclusion:\n",
    "Of all records, 64.3% of payments were made by male and 35.7% by female."
   ]
  },
  {
   "cell_type": "markdown",
   "id": "e1a7d21f-6e32-4871-bf6c-93c40f5ce1d7",
   "metadata": {},
   "source": [
    "#### Analysis of Smoke of Not"
   ]
  },
  {
   "cell_type": "code",
   "execution_count": 28,
   "id": "ecdff1a7-241e-4ce8-9d34-fb32912dea38",
   "metadata": {},
   "outputs": [
    {
     "data": {
      "text/html": [
       "<div>\n",
       "<style scoped>\n",
       "    .dataframe tbody tr th:only-of-type {\n",
       "        vertical-align: middle;\n",
       "    }\n",
       "\n",
       "    .dataframe tbody tr th {\n",
       "        vertical-align: top;\n",
       "    }\n",
       "\n",
       "    .dataframe thead th {\n",
       "        text-align: right;\n",
       "    }\n",
       "</style>\n",
       "<table border=\"1\" class=\"dataframe\">\n",
       "  <thead>\n",
       "    <tr style=\"text-align: right;\">\n",
       "      <th></th>\n",
       "      <th>smoker</th>\n",
       "    </tr>\n",
       "  </thead>\n",
       "  <tbody>\n",
       "    <tr>\n",
       "      <th>No</th>\n",
       "      <td>151</td>\n",
       "    </tr>\n",
       "    <tr>\n",
       "      <th>Yes</th>\n",
       "      <td>93</td>\n",
       "    </tr>\n",
       "  </tbody>\n",
       "</table>\n",
       "</div>"
      ],
      "text/plain": [
       "     smoker\n",
       "No      151\n",
       "Yes      93"
      ]
     },
     "execution_count": 28,
     "metadata": {},
     "output_type": "execute_result"
    }
   ],
   "source": [
    "# Type count of whether people who pays the bill smoke\n",
    "SmokerCnts = DataFrame(Finaldf.smoker.value_counts())\n",
    "SmokerCnts"
   ]
  },
  {
   "cell_type": "code",
   "execution_count": 99,
   "id": "6a683277-a908-41d7-bd14-fa18c6f46216",
   "metadata": {},
   "outputs": [
    {
     "data": {
      "image/png": "[encoded data removed]",
      "text/plain": [
       "<Figure size 432x288 with 1 Axes>"
      ]
     },
     "metadata": {},
     "output_type": "display_data"
    }
   ],
   "source": [
    "# Pie chart of whether people who pays the bill smoke\n",
    "SmokerCnts.plot(kind='pie',autopct='%1.1f%%',subplots = True, startangle=90)\n",
    "plt.title('Smoke or Not Distribution Pie Chart')\n",
    "plt.ylabel('')\n",
    "plt.show()"
   ]
  },
  {
   "cell_type": "markdown",
   "id": "2168fa7a-ac25-4582-b4e3-c372897c75f6",
   "metadata": {},
   "source": [
    "#### Conclusion:\n",
    "38.1% of person who pays bill are smoker, 61.9% are not."
   ]
  },
  {
   "cell_type": "markdown",
   "id": "d96f7f10-cabc-493b-ae3a-4fe2a0e29f85",
   "metadata": {},
   "source": [
    "#### Analysis of Day of the Week"
   ]
  },
  {
   "cell_type": "code",
   "execution_count": 30,
   "id": "44602020-5d03-4512-9cc5-255a3b016100",
   "metadata": {},
   "outputs": [
    {
     "data": {
      "text/html": [
       "<div>\n",
       "<style scoped>\n",
       "    .dataframe tbody tr th:only-of-type {\n",
       "        vertical-align: middle;\n",
       "    }\n",
       "\n",
       "    .dataframe tbody tr th {\n",
       "        vertical-align: top;\n",
       "    }\n",
       "\n",
       "    .dataframe thead th {\n",
       "        text-align: right;\n",
       "    }\n",
       "</style>\n",
       "<table border=\"1\" class=\"dataframe\">\n",
       "  <thead>\n",
       "    <tr style=\"text-align: right;\">\n",
       "      <th></th>\n",
       "      <th>day</th>\n",
       "    </tr>\n",
       "  </thead>\n",
       "  <tbody>\n",
       "    <tr>\n",
       "      <th>Sat</th>\n",
       "      <td>87</td>\n",
       "    </tr>\n",
       "    <tr>\n",
       "      <th>Sun</th>\n",
       "      <td>76</td>\n",
       "    </tr>\n",
       "    <tr>\n",
       "      <th>Thur</th>\n",
       "      <td>62</td>\n",
       "    </tr>\n",
       "    <tr>\n",
       "      <th>Fri</th>\n",
       "      <td>19</td>\n",
       "    </tr>\n",
       "  </tbody>\n",
       "</table>\n",
       "</div>"
      ],
      "text/plain": [
       "      day\n",
       "Sat    87\n",
       "Sun    76\n",
       "Thur   62\n",
       "Fri    19"
      ]
     },
     "execution_count": 30,
     "metadata": {},
     "output_type": "execute_result"
    }
   ],
   "source": [
    "# Type count of day of the week of people come to the restaurant\n",
    "DayCnts = DataFrame(Finaldf.day.value_counts())\n",
    "DayCnts"
   ]
  },
  {
   "cell_type": "code",
   "execution_count": 31,
   "id": "78c9a0b3-015e-491d-885e-801ac2f79efd",
   "metadata": {},
   "outputs": [
    {
     "data": {
      "text/plain": [
       "<AxesSubplot:>"
      ]
     },
     "execution_count": 31,
     "metadata": {},
     "output_type": "execute_result"
    },
    {
     "data": {
      "image/png": "[encoded data removed]",
      "text/plain": [
       "<Figure size 432x288 with 1 Axes>"
      ]
     },
     "metadata": {
      "needs_background": "light"
     },
     "output_type": "display_data"
    }
   ],
   "source": [
    "# Histogram of day of week\n",
    "DayCnts.columns = ['Counts']\n",
    "DayCnts.plot(kind = 'bar', color = 'green')"
   ]
  },
  {
   "cell_type": "markdown",
   "id": "17320f70-06d1-4066-b4b3-2a78c1af7648",
   "metadata": {},
   "source": [
    "#### Conclusion:\n",
    "Saturday has the most dining records, then Sunday, Thursdat, Friday."
   ]
  },
  {
   "cell_type": "markdown",
   "id": "033ed5b1-8b20-4746-bc39-0d01f7529e4f",
   "metadata": {},
   "source": [
    "#### Analysis of Dining Time"
   ]
  },
  {
   "cell_type": "code",
   "execution_count": 32,
   "id": "3e272ccc-30b2-44c6-8a2d-18d3d1143063",
   "metadata": {},
   "outputs": [
    {
     "data": {
      "text/html": [
       "<div>\n",
       "<style scoped>\n",
       "    .dataframe tbody tr th:only-of-type {\n",
       "        vertical-align: middle;\n",
       "    }\n",
       "\n",
       "    .dataframe tbody tr th {\n",
       "        vertical-align: top;\n",
       "    }\n",
       "\n",
       "    .dataframe thead th {\n",
       "        text-align: right;\n",
       "    }\n",
       "</style>\n",
       "<table border=\"1\" class=\"dataframe\">\n",
       "  <thead>\n",
       "    <tr style=\"text-align: right;\">\n",
       "      <th></th>\n",
       "      <th>time</th>\n",
       "    </tr>\n",
       "  </thead>\n",
       "  <tbody>\n",
       "    <tr>\n",
       "      <th>Dinner</th>\n",
       "      <td>176</td>\n",
       "    </tr>\n",
       "    <tr>\n",
       "      <th>Lunch</th>\n",
       "      <td>68</td>\n",
       "    </tr>\n",
       "  </tbody>\n",
       "</table>\n",
       "</div>"
      ],
      "text/plain": [
       "        time\n",
       "Dinner   176\n",
       "Lunch     68"
      ]
     },
     "execution_count": 32,
     "metadata": {},
     "output_type": "execute_result"
    }
   ],
   "source": [
    "# Type count of dining time\n",
    "TimeCnts = DataFrame(Finaldf.time.value_counts())\n",
    "TimeCnts"
   ]
  },
  {
   "cell_type": "code",
   "execution_count": 98,
   "id": "c5b962f1-a797-4b13-8b2e-46664415accb",
   "metadata": {},
   "outputs": [
    {
     "data": {
      "image/png": "[encoded data removed]",
      "text/plain": [
       "<Figure size 432x288 with 1 Axes>"
      ]
     },
     "metadata": {},
     "output_type": "display_data"
    }
   ],
   "source": [
    "TimeCnts.plot(kind='pie',autopct='%1.1f%%',subplots = True, startangle=90)\n",
    "plt.title('Dining Time Distribution Pie Chart')\n",
    "plt.ylabel('')\n",
    "plt.show()"
   ]
  },
  {
   "cell_type": "markdown",
   "id": "12c941ca-aa25-4354-bdb2-cf9e7c1eb3a5",
   "metadata": {},
   "source": [
    "#### Conclusion:\n",
    "72.1% dining record are dinner, 27.9% are lunch."
   ]
  },
  {
   "cell_type": "markdown",
   "id": "3a4bdf6d-4b3e-444c-aa51-c4d2b4f5cbe3",
   "metadata": {},
   "source": [
    "### Summaries"
   ]
  },
  {
   "cell_type": "markdown",
   "id": "d138261f-6efa-46a1-8de8-9302c7087bb7",
   "metadata": {},
   "source": [
    "#### Heatmap of Continuous Variables"
   ]
  },
  {
   "cell_type": "code",
   "execution_count": 103,
   "id": "15413d0c-5dbd-4d99-b612-4f63e992a19d",
   "metadata": {},
   "outputs": [
    {
     "data": {
      "image/png": "[encoded data removed]",
      "text/plain": [
       "<Figure size 432x288 with 2 Axes>"
      ]
     },
     "metadata": {},
     "output_type": "display_data"
    }
   ],
   "source": [
    "Finaldf[['size','total_bill','tip','tip_rate']]\n",
    "sns.heatmap(Finaldf.corr(),annot=True,cmap='YlGnBu')\n",
    "plt.title('Heatmap of Continuous Variables in Dataframe')\n",
    "plt.show()"
   ]
  },
  {
   "cell_type": "markdown",
   "id": "82cc9e01-2c89-4923-a00b-3d8b4500949e",
   "metadata": {},
   "source": [
    "#### Conclusion:\n",
    "From heatmap, we can see that total bill and tip has a relatively high positive correlation, total bill and tip rate has a relatively high negative correlation. The higher the total bill, the higher the tip, and the lower tip rate. \\\n",
    "Then I generate a 1x2 subplot of scatterplot to see this two relationship."
   ]
  },
  {
   "cell_type": "markdown",
   "id": "3f11c937-d90d-44c0-bc43-59351d542b67",
   "metadata": {},
   "source": [
    "#### 1x2 Subplot of Scatterplot"
   ]
  },
  {
   "cell_type": "code",
   "execution_count": 106,
   "id": "14bb2990-8266-41a3-9bb7-2220ec4a36d1",
   "metadata": {},
   "outputs": [
    {
     "data": {
      "image/png": "[encoded data removed]",
      "text/plain": [
       "<Figure size 432x288 with 2 Axes>"
      ]
     },
     "metadata": {},
     "output_type": "display_data"
    }
   ],
   "source": [
    "plt.suptitle('Continuous Variables Correlation',fontsize='12')\n",
    "plt.subplots_adjust(hspace=.5)\n",
    "\n",
    "plt.subplot(1, 2, 1)\n",
    "plt.scatter(Finaldf['total_bill'],Finaldf['tip'])\n",
    "plt.title('Scatterplot of Total Bill and Tip')\n",
    "plt.ylabel=('tip')\n",
    "\n",
    "plt.subplot(1, 2, 2)\n",
    "plt.scatter(Finaldf['total_bill'],Finaldf['tip_rate'])\n",
    "plt.title('Scatterplot of Total Bill and Tip Rate')\n",
    "plt.ylabel=('tip_rate')\n",
    "\n",
    "plt.show()"
   ]
  },
  {
   "cell_type": "markdown",
   "id": "eba39e48-822e-4118-871d-b11d069fdd04",
   "metadata": {},
   "source": [
    "#### Discussion\n",
    "We performed more detailed analysis of continuous type variables. In the data set, most of the people who dined at the restaurant were two people, spending around 20 dollars, and tipping rates ranged from about 10 persent to 20 persent, that is 1~5 dollars. \\\n",
    "Total bill has positive correlation to tip, size, negative correlation to tip rate. Tip has positve correlation with size, tip rate. Tip rate has negative correlation to size. However, due to the limited amount of data, the reliability of these results requires further analysis. \\\n",
    "Meanwhile, more analysis is needed for qualitative data."
   ]
  },
  {
   "cell_type": "markdown",
   "id": "3c3de596-a492-44cb-bccd-0f0403f9136d",
   "metadata": {},
   "source": [
    "### My Research Questions"
   ]
  },
  {
   "cell_type": "markdown",
   "id": "b97457c2-4252-44b7-8705-0112224c23de",
   "metadata": {},
   "source": [
    "#### 1. Whether certain characteristics of the payer affect the tip rate？"
   ]
  },
  {
   "cell_type": "code",
   "execution_count": 34,
   "id": "8995092c-af31-47d5-9aec-2e53e4ccb949",
   "metadata": {},
   "outputs": [
    {
     "data": {
      "text/plain": [
       "sex\n",
       "Female    16.649074\n",
       "Male      15.765055\n",
       "Name: tip_rate, dtype: float64"
      ]
     },
     "execution_count": 34,
     "metadata": {},
     "output_type": "execute_result"
    },
    {
     "data": {
      "image/png": "[encoded data removed]",
      "text/plain": [
       "<Figure size 432x288 with 1 Axes>"
      ]
     },
     "metadata": {
      "needs_background": "light"
     },
     "output_type": "display_data"
    }
   ],
   "source": [
    "tr_Gender = Finaldf.groupby(\"sex\")[\"tip_rate\"].mean()\n",
    "tr_Gender.plot(kind='bar',color='red')\n",
    "plt.title('Average Tipping Rate by Gender(Person who pays the bill)')\n",
    "plt.ylabel('Tipping Rate')\n",
    "tr_Gender"
   ]
  },
  {
   "cell_type": "code",
   "execution_count": 54,
   "id": "4b923d63-1457-4315-99aa-d56597c2165d",
   "metadata": {},
   "outputs": [
    {
     "data": {
      "text/plain": [
       "smoker\n",
       "No     15.932846\n",
       "Yes    16.319604\n",
       "Name: tip_rate, dtype: float64"
      ]
     },
     "execution_count": 54,
     "metadata": {},
     "output_type": "execute_result"
    },
    {
     "data": {
      "image/png": "[encoded data removed]",
      "text/plain": [
       "<Figure size 432x288 with 1 Axes>"
      ]
     },
     "metadata": {
      "needs_background": "light"
     },
     "output_type": "display_data"
    }
   ],
   "source": [
    "tr_smoke = Finaldf.groupby(\"smoker\")[\"tip_rate\"].mean()\n",
    "tr_smoke.plot(kind='bar',color='grey')\n",
    "plt.title('Average Tipping Rate by Smoke or Not')\n",
    "plt.ylabel('Tipping Rate')\n",
    "tr_smoke"
   ]
  },
  {
   "cell_type": "markdown",
   "id": "db38a6b3-68c6-48f2-8143-3441c251291d",
   "metadata": {},
   "source": [
    "#### Conclusion:\n",
    "The dataset provides two payer characteristics: gender and whether or not they smoke. These characteristics are available in sufficient quantities to support the analysis. After analyzing the average of tip rates, female payers gave nearly 1% higher tips than male payers. Smokers gave slightly higher tip rates than non-smokers, less than 0.5%. It can be assumed that the gender trait of the payer has an affects on tip rate."
   ]
  },
  {
   "cell_type": "markdown",
   "id": "c03c3d0f-8ef6-44e3-9208-677c37f8722c",
   "metadata": {},
   "source": [
    "#### 2. Which day and time has the highest total bill, and which has the highest tip rate? Are they the same?"
   ]
  },
  {
   "cell_type": "code",
   "execution_count": 73,
   "id": "39c1fe8b-2b35-486b-9ee1-bef071ceacf3",
   "metadata": {},
   "outputs": [
    {
     "data": {
      "image/png": "[encoded data removed]",
      "text/plain": [
       "<Figure size 429.625x360 with 1 Axes>"
      ]
     },
     "metadata": {
      "needs_background": "light"
     },
     "output_type": "display_data"
    }
   ],
   "source": [
    "sns.catplot(x='day',y='total_bill', kind = \"bar\", data=Finaldf,hue='time')\n",
    "plt.title('Total Bill in Different Day and Time')\n",
    "plt.show()"
   ]
  },
  {
   "cell_type": "code",
   "execution_count": 70,
   "id": "bbe05e48-27fd-4fe2-9eff-03bceaf55e5f",
   "metadata": {},
   "outputs": [
    {
     "data": {
      "image/png": "[encoded data removed]",
      "text/plain": [
       "<Figure size 429.625x360 with 1 Axes>"
      ]
     },
     "metadata": {
      "needs_background": "light"
     },
     "output_type": "display_data"
    }
   ],
   "source": [
    "sns.catplot(x='day',y='tip_rate', kind = \"bar\", data=Finaldf,hue='time')\n",
    "plt.title('Tip Rate in Different Day and Time')\n",
    "plt.show()"
   ]
  },
  {
   "cell_type": "markdown",
   "id": "6817573f-ed4c-42ee-b916-cb274dc8e16f",
   "metadata": {},
   "source": [
    "#### Conclusion:\n",
    "Sunday dinner has the highest average bill amount, but the tip rate is not the highest. Friday lunch has the highest tip rate. However, the dining records on Friday are smaller than those on Thursday, Saturday and Sunday, so the results may be biased."
   ]
  },
  {
   "cell_type": "markdown",
   "id": "b355a14d-2daa-4c02-9347-0aac17158a26",
   "metadata": {},
   "source": [
    "#### 3. How's size of people dining affact the tip rate? Does the size of people dining really has an affact the tip rate?"
   ]
  },
  {
   "cell_type": "code",
   "execution_count": 91,
   "id": "19b93c70-fd94-474f-ac28-2ed5eb77f5b0",
   "metadata": {},
   "outputs": [
    {
     "data": {
      "image/png": "[encoded data removed]",
      "text/plain": [
       "<Figure size 432x288 with 1 Axes>"
      ]
     },
     "metadata": {},
     "output_type": "display_data"
    }
   ],
   "source": [
    "sns.boxplot(x=\"size\", y=\"tip_rate\", data=Finaldf) \n",
    "plt.title('Tip Rate of Different Dining Size')\n",
    "plt.show() "
   ]
  },
  {
   "cell_type": "markdown",
   "id": "a96dbb3e-8a3c-4a22-92db-15e0ae6c0264",
   "metadata": {},
   "source": [
    "#### Conclusion:\n",
    "Tipping rates for 2, 3 and 4 diners do not differ much, while tipping rates for 1 diner are higher and tipping rates for 5 diners are lower. However, combined with the previous data analysis, the data sample of 1 and 5 diners is very small, less than 20, so it may produce a large bias."
   ]
  },
  {
   "cell_type": "markdown",
   "id": "15932d63-f4ae-471e-a4a4-b9fcf0b8e534",
   "metadata": {},
   "source": [
    "### Conclusion\n",
    "Based on all the analysis generated above, I'd like to make a conclusion of tippint situation in the restaurant. \\\n",
    "Firstly, for payer characteristics. The dataset recorded two payer characteristics, gender and whether or not they smoked. The percentage of male payers is higher than that of female, and the percentage of non-smoking payers is higher than that of smokers. Gender affects tipping rates, with female payers paying higher rates and smoking or not having little to no effect on tipping rates. \\\n",
    "Secondly, for other characteristics of the record, the day of the week, lunch or dinner, and the number of people eating. Saturday has the most dining records, then Sunday, Thursdat, Friday. More dinners were recorded, and no lunches were even recorded on Saturdays and Sundays. Friday lunch has the highest average tip rate and Sunday dinner has the highest average amount. Most of the meals are served to 2 people. Other meal numbers, such as 1 person, 5 people, etc. were recorded too infrequently to determine if there was a negative correlation between meal numbers and tip rates. \\\n",
    "Finally, for total bill, tip and tip rate I generated. The total amount has a positive correlation with the tip amount and a negative correlation with the tip rate. \\\n",
    "For operators, they should prepare locations equally for different sizes of the dining population, and also many prepare some locations for two people. Focus on Saturday and Sunday operations, especially for dinner time, given that Saturday records the most meals, while Sunday has a higher average meal amount. Perhaps, those who value female payers might get more tips."
   ]
  }
 ],
 "metadata": {
  "kernelspec": {
   "display_name": "Python 3 (ipykernel)",
   "language": "python",
   "name": "python3"
  },
  "language_info": {
   "codemirror_mode": {
    "name": "ipython",
    "version": 3
   },
   "file_extension": ".py",
   "mimetype": "text/x-python",
   "name": "python",
   "nbconvert_exporter": "python",
   "pygments_lexer": "ipython3",
   "version": "3.9.7"
  }
 },
 "nbformat": 4,
 "nbformat_minor": 5
}
