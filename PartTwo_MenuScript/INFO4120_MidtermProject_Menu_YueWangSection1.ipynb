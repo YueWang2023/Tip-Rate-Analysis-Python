{
 "cells": [
  {
   "cell_type": "markdown",
   "id": "60c25dac-4cf7-4c4c-901a-63874a274c3e",
   "metadata": {},
   "source": [
    "## INFO 4120 Python - Midterm Project - Menu Function"
   ]
  },
  {
   "cell_type": "code",
   "execution_count": 2,
   "id": "8c8b4391-0764-4183-9e17-fd8a67bdfe7b",
   "metadata": {},
   "outputs": [],
   "source": [
    "import pandas as pd\n",
    "import numpy as np\n",
    "import os\n",
    "import matplotlib.pyplot as plt\n",
    "from pandas import DataFrame,Series\n",
    "import seaborn as sns\n",
    "%matplotlib inline"
   ]
  },
  {
   "cell_type": "code",
   "execution_count": 8,
   "id": "d9a24364-5ab6-4bc4-9dcf-cbc87e2f67ed",
   "metadata": {},
   "outputs": [
    {
     "data": {
      "text/html": [
       "<div>\n",
       "<style scoped>\n",
       "    .dataframe tbody tr th:only-of-type {\n",
       "        vertical-align: middle;\n",
       "    }\n",
       "\n",
       "    .dataframe tbody tr th {\n",
       "        vertical-align: top;\n",
       "    }\n",
       "\n",
       "    .dataframe thead th {\n",
       "        text-align: right;\n",
       "    }\n",
       "</style>\n",
       "<table border=\"1\" class=\"dataframe\">\n",
       "  <thead>\n",
       "    <tr style=\"text-align: right;\">\n",
       "      <th></th>\n",
       "      <th>sex</th>\n",
       "      <th>smoker</th>\n",
       "      <th>day</th>\n",
       "      <th>time</th>\n",
       "      <th>size</th>\n",
       "      <th>total_bill</th>\n",
       "      <th>tip</th>\n",
       "      <th>tip_rate</th>\n",
       "    </tr>\n",
       "    <tr>\n",
       "      <th>record id</th>\n",
       "      <th></th>\n",
       "      <th></th>\n",
       "      <th></th>\n",
       "      <th></th>\n",
       "      <th></th>\n",
       "      <th></th>\n",
       "      <th></th>\n",
       "      <th></th>\n",
       "    </tr>\n",
       "  </thead>\n",
       "  <tbody>\n",
       "    <tr>\n",
       "      <th>1</th>\n",
       "      <td>Female</td>\n",
       "      <td>No</td>\n",
       "      <td>Sun</td>\n",
       "      <td>Dinner</td>\n",
       "      <td>2</td>\n",
       "      <td>16.99</td>\n",
       "      <td>1.01</td>\n",
       "      <td>5.944673</td>\n",
       "    </tr>\n",
       "    <tr>\n",
       "      <th>2</th>\n",
       "      <td>Male</td>\n",
       "      <td>No</td>\n",
       "      <td>Sun</td>\n",
       "      <td>Dinner</td>\n",
       "      <td>3</td>\n",
       "      <td>10.34</td>\n",
       "      <td>1.66</td>\n",
       "      <td>16.054159</td>\n",
       "    </tr>\n",
       "    <tr>\n",
       "      <th>3</th>\n",
       "      <td>Male</td>\n",
       "      <td>No</td>\n",
       "      <td>Sun</td>\n",
       "      <td>Dinner</td>\n",
       "      <td>3</td>\n",
       "      <td>21.01</td>\n",
       "      <td>3.50</td>\n",
       "      <td>16.658734</td>\n",
       "    </tr>\n",
       "    <tr>\n",
       "      <th>4</th>\n",
       "      <td>Male</td>\n",
       "      <td>No</td>\n",
       "      <td>Sun</td>\n",
       "      <td>Dinner</td>\n",
       "      <td>2</td>\n",
       "      <td>23.68</td>\n",
       "      <td>3.31</td>\n",
       "      <td>13.978041</td>\n",
       "    </tr>\n",
       "    <tr>\n",
       "      <th>5</th>\n",
       "      <td>Female</td>\n",
       "      <td>No</td>\n",
       "      <td>Sun</td>\n",
       "      <td>Dinner</td>\n",
       "      <td>4</td>\n",
       "      <td>24.59</td>\n",
       "      <td>3.61</td>\n",
       "      <td>14.680765</td>\n",
       "    </tr>\n",
       "    <tr>\n",
       "      <th>6</th>\n",
       "      <td>Male</td>\n",
       "      <td>No</td>\n",
       "      <td>Sun</td>\n",
       "      <td>Dinner</td>\n",
       "      <td>4</td>\n",
       "      <td>25.29</td>\n",
       "      <td>4.71</td>\n",
       "      <td>18.623962</td>\n",
       "    </tr>\n",
       "    <tr>\n",
       "      <th>7</th>\n",
       "      <td>Male</td>\n",
       "      <td>No</td>\n",
       "      <td>Sun</td>\n",
       "      <td>Dinner</td>\n",
       "      <td>2</td>\n",
       "      <td>8.77</td>\n",
       "      <td>2.00</td>\n",
       "      <td>22.805017</td>\n",
       "    </tr>\n",
       "    <tr>\n",
       "      <th>8</th>\n",
       "      <td>Male</td>\n",
       "      <td>No</td>\n",
       "      <td>Sun</td>\n",
       "      <td>Dinner</td>\n",
       "      <td>4</td>\n",
       "      <td>26.88</td>\n",
       "      <td>3.12</td>\n",
       "      <td>11.607143</td>\n",
       "    </tr>\n",
       "    <tr>\n",
       "      <th>9</th>\n",
       "      <td>Male</td>\n",
       "      <td>No</td>\n",
       "      <td>Sun</td>\n",
       "      <td>Dinner</td>\n",
       "      <td>2</td>\n",
       "      <td>15.04</td>\n",
       "      <td>1.96</td>\n",
       "      <td>13.031915</td>\n",
       "    </tr>\n",
       "    <tr>\n",
       "      <th>10</th>\n",
       "      <td>Male</td>\n",
       "      <td>No</td>\n",
       "      <td>Sun</td>\n",
       "      <td>Dinner</td>\n",
       "      <td>2</td>\n",
       "      <td>14.78</td>\n",
       "      <td>3.23</td>\n",
       "      <td>21.853857</td>\n",
       "    </tr>\n",
       "    <tr>\n",
       "      <th>11</th>\n",
       "      <td>Male</td>\n",
       "      <td>No</td>\n",
       "      <td>Sun</td>\n",
       "      <td>Dinner</td>\n",
       "      <td>2</td>\n",
       "      <td>10.27</td>\n",
       "      <td>1.71</td>\n",
       "      <td>16.650438</td>\n",
       "    </tr>\n",
       "    <tr>\n",
       "      <th>12</th>\n",
       "      <td>Female</td>\n",
       "      <td>No</td>\n",
       "      <td>Sun</td>\n",
       "      <td>Dinner</td>\n",
       "      <td>4</td>\n",
       "      <td>35.26</td>\n",
       "      <td>5.00</td>\n",
       "      <td>14.180374</td>\n",
       "    </tr>\n",
       "    <tr>\n",
       "      <th>13</th>\n",
       "      <td>Male</td>\n",
       "      <td>No</td>\n",
       "      <td>Sun</td>\n",
       "      <td>Dinner</td>\n",
       "      <td>2</td>\n",
       "      <td>15.42</td>\n",
       "      <td>1.57</td>\n",
       "      <td>10.181582</td>\n",
       "    </tr>\n",
       "    <tr>\n",
       "      <th>14</th>\n",
       "      <td>Male</td>\n",
       "      <td>No</td>\n",
       "      <td>Sun</td>\n",
       "      <td>Dinner</td>\n",
       "      <td>4</td>\n",
       "      <td>18.43</td>\n",
       "      <td>3.00</td>\n",
       "      <td>16.277808</td>\n",
       "    </tr>\n",
       "    <tr>\n",
       "      <th>15</th>\n",
       "      <td>Female</td>\n",
       "      <td>No</td>\n",
       "      <td>Sun</td>\n",
       "      <td>Dinner</td>\n",
       "      <td>2</td>\n",
       "      <td>14.83</td>\n",
       "      <td>3.02</td>\n",
       "      <td>20.364127</td>\n",
       "    </tr>\n",
       "  </tbody>\n",
       "</table>\n",
       "</div>"
      ],
      "text/plain": [
       "              sex smoker  day    time  size  total_bill   tip   tip_rate\n",
       "record id                                                               \n",
       "1          Female     No  Sun  Dinner     2       16.99  1.01   5.944673\n",
       "2            Male     No  Sun  Dinner     3       10.34  1.66  16.054159\n",
       "3            Male     No  Sun  Dinner     3       21.01  3.50  16.658734\n",
       "4            Male     No  Sun  Dinner     2       23.68  3.31  13.978041\n",
       "5          Female     No  Sun  Dinner     4       24.59  3.61  14.680765\n",
       "6            Male     No  Sun  Dinner     4       25.29  4.71  18.623962\n",
       "7            Male     No  Sun  Dinner     2        8.77  2.00  22.805017\n",
       "8            Male     No  Sun  Dinner     4       26.88  3.12  11.607143\n",
       "9            Male     No  Sun  Dinner     2       15.04  1.96  13.031915\n",
       "10           Male     No  Sun  Dinner     2       14.78  3.23  21.853857\n",
       "11           Male     No  Sun  Dinner     2       10.27  1.71  16.650438\n",
       "12         Female     No  Sun  Dinner     4       35.26  5.00  14.180374\n",
       "13           Male     No  Sun  Dinner     2       15.42  1.57  10.181582\n",
       "14           Male     No  Sun  Dinner     4       18.43  3.00  16.277808\n",
       "15         Female     No  Sun  Dinner     2       14.83  3.02  20.364127"
      ]
     },
     "execution_count": 8,
     "metadata": {},
     "output_type": "execute_result"
    }
   ],
   "source": [
    "# Read in the dataset\n",
    "final = pd.read_csv(\"final version file.csv\")\n",
    "Finaldf = DataFrame(final)\n",
    "Finaldf= Finaldf.set_index('record id')\n",
    "Finaldf.head(15)"
   ]
  },
  {
   "cell_type": "code",
   "execution_count": 14,
   "id": "63fa75fd-4234-40e1-81ed-7a3bfa87c531",
   "metadata": {},
   "outputs": [],
   "source": [
    "# Create Menu Function\n",
    "# Enter the number of the report to be found, e.g. 1, 2, 3, 4, 5, and the function will return the corresponding summary image.\n",
    "\n",
    "def MyMenu():\n",
    "    # First, remind the users to enter the report numbers and that the available report digits are 1 through 5.\n",
    "    # Report 1 is the heatmap of all the continuous variables of the dataset. It shows the correlation between the variables.\n",
    "    # Report 2 is the analysis of payer characteristics: gender and smoke or not, compare the average of their tip rates.\n",
    "    # Report 3 is the scatterplot of total bill and tip, total bill and tip rate.\n",
    "    # Report 4 is the boxplot of size of people dining in and tip rate.\n",
    "    # Report 5 is the bar chart of total bill of different day and time.\n",
    "    # If the users enters something other than 1, 2, 3, 4, 5, then output text reminds the user to check his or her input.\n",
    "    myinput = input(\"Please enter the report number you want to check( From 1 to 5):\")\n",
    "    if myinput == '1':\n",
    "        print(\"You are checking the heatmap of the dataset.\")\n",
    "        Finaldf[['size','total_bill','tip','tip_rate']]\n",
    "        sns.heatmap(Finaldf.corr(),annot=True,cmap='YlGnBu')\n",
    "        plt.title('Heatmap of Continuous Variables in Dataframe')\n",
    "        plt.show()\n",
    "        \n",
    "    elif myinput == '2':\n",
    "        print(\"You are checking the analysis of payer characteristics.\")\n",
    "        plt.subplots_adjust(hspace=.5)\n",
    "        plt.subplot(1, 2, 1)\n",
    "        tr_Gender = Finaldf.groupby(\"sex\")[\"tip_rate\"].mean()\n",
    "        tr_Gender.plot(kind='bar',color='red')\n",
    "        plt.title('Tipping Rate by Gender')\n",
    "        \n",
    "        plt.subplot(1, 2, 2)\n",
    "        tr_smoke = Finaldf.groupby(\"smoker\")[\"tip_rate\"].mean()\n",
    "        tr_smoke.plot(kind='bar',color='grey')\n",
    "        plt.title('Tipping Rate by Smoke or Not')\n",
    "\n",
    "        plt.show()\n",
    "        \n",
    "    elif myinput == '3':\n",
    "        print(\"You are checking the scatterplots of total bill and tip and total bill and tip rate.\")\n",
    "        plt.suptitle('Continuous Variables Correlation-Scatterplot',fontsize='12')\n",
    "        plt.subplots_adjust(hspace=.5)\n",
    "\n",
    "        plt.subplot(1, 2, 1)\n",
    "        plt.scatter(Finaldf['total_bill'],Finaldf['tip'])\n",
    "        plt.title('Total Bill and Tip')\n",
    "        plt.ylabel=('tip')\n",
    "\n",
    "        plt.subplot(1, 2, 2)\n",
    "        plt.scatter(Finaldf['total_bill'],Finaldf['tip_rate'])\n",
    "        plt.title('Total Bill and Tip Rate')\n",
    "        plt.ylabel=('tip_rate')\n",
    "        plt.show()\n",
    "        \n",
    "    elif myinput == '4':\n",
    "        print(\"You are checking the boxplot of size of people dining and tip rate.\")\n",
    "        sns.boxplot(x=\"size\", y=\"tip_rate\", data=Finaldf) \n",
    "        plt.title('Tip Rate of Different Dining Size')\n",
    "        plt.show() \n",
    "        \n",
    "    elif myinput == '5':\n",
    "        print(\"You are checking the total bill of different day and time.\")\n",
    "        sns.catplot(x='day',y='total_bill', kind = \"bar\", data=Finaldf,hue='time')\n",
    "        plt.title('Total Bill in Different Day and Time')\n",
    "        plt.show()\n",
    "        \n",
    "    else:\n",
    "        print(\"We can't recognize the report you are checking. Please make sure you enter the right report number.\")\n",
    "    return"
   ]
  },
  {
   "cell_type": "code",
   "execution_count": 15,
   "id": "3bd60a0e-c6e9-4248-8c5e-cd724fca2ea8",
   "metadata": {},
   "outputs": [
    {
     "name": "stdin",
     "output_type": "stream",
     "text": [
      "Please enter the report number you want to check( From 1 to 5): 1\n"
     ]
    },
    {
     "name": "stdout",
     "output_type": "stream",
     "text": [
      "You are checking the heatmap of the dataset.\n"
     ]
    },
    {
     "data": {
      "image/png": "[encoded data removed]",
      "text/plain": [
       "<Figure size 432x288 with 2 Axes>"
      ]
     },
     "metadata": {
      "needs_background": "light"
     },
     "output_type": "display_data"
    }
   ],
   "source": [
    "MyMenu()"
   ]
  },
  {
   "cell_type": "code",
   "execution_count": 9,
   "id": "250b504a-eb4c-47dc-b7e6-28f84af142dc",
   "metadata": {},
   "outputs": [
    {
     "name": "stdin",
     "output_type": "stream",
     "text": [
      "Please enter the report number you want to check( From 1 to 5): 2\n"
     ]
    },
    {
     "name": "stdout",
     "output_type": "stream",
     "text": [
      "You are checking the analysis of payer characteristics.\n"
     ]
    },
    {
     "data": {
      "image/png": "[encoded data removed]",
      "text/plain": [
       "<Figure size 432x288 with 2 Axes>"
      ]
     },
     "metadata": {
      "needs_background": "light"
     },
     "output_type": "display_data"
    }
   ],
   "source": [
    "MyMenu()"
   ]
  },
  {
   "cell_type": "code",
   "execution_count": 10,
   "id": "87d5be3b-0ff9-4f69-b742-e36ef5773271",
   "metadata": {},
   "outputs": [
    {
     "name": "stdin",
     "output_type": "stream",
     "text": [
      "Please enter the report number you want to check( From 1 to 5): 3\n"
     ]
    },
    {
     "name": "stdout",
     "output_type": "stream",
     "text": [
      "You are checking the scatterplots of total bill and tip and total bill and tip rate.\n"
     ]
    },
    {
     "data": {
      "image/png": "[encoded data removed]",
      "text/plain": [
       "<Figure size 432x288 with 2 Axes>"
      ]
     },
     "metadata": {
      "needs_background": "light"
     },
     "output_type": "display_data"
    }
   ],
   "source": [
    "MyMenu()"
   ]
  },
  {
   "cell_type": "code",
   "execution_count": 11,
   "id": "a061d24a-a7e7-4667-89b7-e459a87166ec",
   "metadata": {},
   "outputs": [
    {
     "name": "stdin",
     "output_type": "stream",
     "text": [
      "Please enter the report number you want to check( From 1 to 5): 4\n"
     ]
    },
    {
     "name": "stdout",
     "output_type": "stream",
     "text": [
      "You are checking the boxplot of size of people dining and tip rate.\n"
     ]
    },
    {
     "data": {
      "image/png": "[encoded data removed]",
      "text/plain": [
       "<Figure size 432x288 with 1 Axes>"
      ]
     },
     "metadata": {
      "needs_background": "light"
     },
     "output_type": "display_data"
    }
   ],
   "source": [
    "MyMenu()"
   ]
  },
  {
   "cell_type": "code",
   "execution_count": 12,
   "id": "84229839-6556-4583-b3e5-a9a3e3aca033",
   "metadata": {},
   "outputs": [
    {
     "name": "stdin",
     "output_type": "stream",
     "text": [
      "Please enter the report number you want to check( From 1 to 5): 5\n"
     ]
    },
    {
     "name": "stdout",
     "output_type": "stream",
     "text": [
      "You are checking the total bill of different day and time.\n"
     ]
    },
    {
     "data": {
      "image/png": "[encoded data removed]",
      "text/plain": [
       "<Figure size 429.625x360 with 1 Axes>"
      ]
     },
     "metadata": {
      "needs_background": "light"
     },
     "output_type": "display_data"
    }
   ],
   "source": [
    "MyMenu()"
   ]
  },
  {
   "cell_type": "code",
   "execution_count": 13,
   "id": "d69c7dd2-064b-4147-be63-d8d0349611b1",
   "metadata": {},
   "outputs": [
    {
     "name": "stdin",
     "output_type": "stream",
     "text": [
      "Please enter the report number you want to check( From 1 to 5): 6\n"
     ]
    },
    {
     "name": "stdout",
     "output_type": "stream",
     "text": [
      "We can't recognize the report you are checking. Please make sure you enter the right report number.\n"
     ]
    }
   ],
   "source": [
    "MyMenu()"
   ]
  }
 ],
 "metadata": {
  "kernelspec": {
   "display_name": "Python 3 (ipykernel)",
   "language": "python",
   "name": "python3"
  },
  "language_info": {
   "codemirror_mode": {
    "name": "ipython",
    "version": 3
   },
   "file_extension": ".py",
   "mimetype": "text/x-python",
   "name": "python",
   "nbconvert_exporter": "python",
   "pygments_lexer": "ipython3",
   "version": "3.9.7"
  }
 },
 "nbformat": 4,
 "nbformat_minor": 5
}
